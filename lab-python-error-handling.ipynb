{
 "cells": [
  {
   "cell_type": "markdown",
   "id": "25d7736c-ba17-4aff-b6bb-66eba20fbf4e",
   "metadata": {},
   "source": [
    "# Lab | Error Handling"
   ]
  },
  {
   "cell_type": "markdown",
   "id": "bc99b386-7508-47a0-bcdb-d969deaf6c8b",
   "metadata": {},
   "source": [
    "## Exercise: Error Handling for Managing Customer Orders\n",
    "\n",
    "The implementation of your code for managing customer orders assumes that the user will always enter a valid input. \n",
    "\n",
    "For example, we could modify the `initialize_inventory` function to include error handling.\n",
    "   - If the user enters an invalid quantity (e.g., a negative value or a non-numeric value), display an error message and ask them to re-enter the quantity for that product.\n",
    "   - Use a try-except block to handle the error and continue prompting the user until a valid quantity is entered.\n",
    "\n",
    "```python\n",
    "# Step 1: Define the function for initializing the inventory with error handling\n",
    "def initialize_inventory(products):\n",
    "    inventory = {}\n",
    "    for product in products:\n",
    "        valid_quantity = False\n",
    "        while not valid_quantity:\n",
    "            try:\n",
    "                quantity = int(input(f\"Enter the quantity of {product}s available: \"))\n",
    "                if quantity < 0:\n",
    "                    raise ValueError(\"Invalid quantity! Please enter a non-negative value.\")\n",
    "                valid_quantity = True\n",
    "            except ValueError as error:\n",
    "                print(f\"Error: {error}\")\n",
    "        inventory[product] = quantity\n",
    "    return inventory\n",
    "\n",
    "# Or, in another way:\n",
    "\n",
    "def initialize_inventory(products):\n",
    "    inventory = {}\n",
    "    for product in products:\n",
    "        valid_input = False\n",
    "        while not valid_input:\n",
    "            try:\n",
    "                quantity = int(input(f\"Enter the quantity of {product}s available: \"))\n",
    "                if quantity >= 0:\n",
    "                    inventory[product] = quantity\n",
    "                    valid_input = True\n",
    "                else:\n",
    "                    print(\"Quantity cannot be negative. Please enter a valid quantity.\")\n",
    "            except ValueError:\n",
    "                print(\"Invalid input. Please enter a valid quantity.\")\n",
    "    return inventory\n",
    "```\n",
    "\n",
    "Let's enhance your code by implementing error handling to handle invalid inputs.\n",
    "\n",
    "Follow the steps below to complete the exercise:\n",
    "\n",
    "2. Modify the `calculate_total_price` function to include error handling.\n",
    "   - If the user enters an invalid price (e.g., a negative value or a non-numeric value), display an error message and ask them to re-enter the price for that product.\n",
    "   - Use a try-except block to handle the error and continue prompting the user until a valid price is entered.\n",
    "\n",
    "3. Modify the `get_customer_orders` function to include error handling.\n",
    "   - If the user enters an invalid number of orders (e.g., a negative value or a non-numeric value), display an error message and ask them to re-enter the number of orders.\n",
    "   - If the user enters an invalid product name (e.g., a product name that is not in the inventory), or that doesn't have stock available, display an error message and ask them to re-enter the product name. *Hint: you will need to pass inventory as a parameter*\n",
    "   - Use a try-except block to handle the error and continue prompting the user until a valid product name is entered.\n",
    "\n",
    "4. Test your code by running the program and deliberately entering invalid quantities and product names. Make sure the error handling mechanism works as expected.\n"
   ]
  },
  {
   "cell_type": "code",
   "execution_count": 21,
   "id": "321156ad-3dad-46db-9871-56b4411dd544",
   "metadata": {},
   "outputs": [],
   "source": [
    "# 1.\n",
    "def initialize_inventory(products):\n",
    "    inventory = {}\n",
    "    for product in products:\n",
    "        valid = False\n",
    "        while not valid:\n",
    "            try:\n",
    "                quantity = int(input(f\"Enter the quantity of {product}s available:\"))\n",
    "                if quantity >= 0:\n",
    "                    inventory[product] = quantity\n",
    "                    valid = True\n",
    "                else:\n",
    "                    raise ValueError(\"Quantity cannot be negative!\")\n",
    "            except ValueError as error:\n",
    "                print(f\"Error: {error}\")\n",
    "    return inventory"
   ]
  },
  {
   "cell_type": "code",
   "execution_count": 27,
   "id": "428aa230-fa86-41bd-a11b-c922a1a3f8e4",
   "metadata": {},
   "outputs": [],
   "source": [
    "# 2.\n",
    "def get_customer_orders():\n",
    "    number_of_orders = int(input(\"Enter the number of customer orders:\"))\n",
    "    return { input(\"Enter the name of a product that a customer wants to order:\") for _ in range(number_of_orders) }"
   ]
  },
  {
   "cell_type": "code",
   "execution_count": 43,
   "id": "87ed9916-262c-4fef-b4d2-a312f8581041",
   "metadata": {},
   "outputs": [],
   "source": [
    "# 3.\n",
    "def update_inventory(customer_orders, inventory):\n",
    "    updated_inventory = { product: quantity - 1 if product in customer_orders else quantity for (product, quantity) in inventory.items() }\n",
    "    return { product: quantity for (product, quantity) in updated_inventory.items() if quantity > 0 }"
   ]
  },
  {
   "cell_type": "code",
   "execution_count": 33,
   "id": "cd08295f-d2b8-4162-bb28-59e24facffa9",
   "metadata": {},
   "outputs": [],
   "source": [
    "# 4.\n",
    "def calculate_order_statistics(customer_orders, products):\n",
    "    total_products_ordered = len(customer_orders)\n",
    "    total_products = len(products)\n",
    "    products_ordered_percentage = 100 * total_products_ordered / total_products\n",
    "    return (total_products_ordered, products_ordered_percentage)"
   ]
  },
  {
   "cell_type": "code",
   "execution_count": 37,
   "id": "668e53ec-bb68-489a-a254-e27cf28a448a",
   "metadata": {},
   "outputs": [],
   "source": [
    "# 5.\n",
    "def print_order_statistics(order_status):\n",
    "    print(\"Order Statistics:\")\n",
    "    print(f\"Total Products Ordered: {order_status[0]}\")\n",
    "    print(f\"Percentage of Products Ordered: {round(order_status[1], 2)}%\")"
   ]
  },
  {
   "cell_type": "code",
   "execution_count": 39,
   "id": "b7879e6a-ee8a-4422-b83f-e921f1159136",
   "metadata": {},
   "outputs": [],
   "source": [
    "# 6.\n",
    "def print_updated_inventory(inventory):\n",
    "    print(\"Inventory:\")\n",
    "    for (product, quantity) in inventory.items():\n",
    "        print(f\"{product}: {quantity}\")"
   ]
  },
  {
   "cell_type": "code",
   "execution_count": 15,
   "id": "bdc95c51-0488-4f6d-bc90-20c3ff72584d",
   "metadata": {},
   "outputs": [],
   "source": [
    "# 7.\n",
    "def calculate_total_price(customer_orders):\n",
    "    total = 0\n",
    "    for order in customer_orders:\n",
    "        try:\n",
    "            price = int(input(f\"Enter the price of {order}\"))\n",
    "            if (price > 0):\n",
    "                total += price\n",
    "                valid = True\n",
    "            else:\n",
    "                raise ValueError(\"Price cannot be negative!\")\n",
    "        except ValueError as error:\n",
    "            print(f\"Error: {error}\")\n",
    "    return total"
   ]
  },
  {
   "cell_type": "code",
   "execution_count": 17,
   "id": "6eeea16b-4332-42e7-bad1-3d2bffa0a108",
   "metadata": {},
   "outputs": [],
   "source": [
    "# 8.\n",
    "def print_total_price(total_price):\n",
    "    print(f\"Total Price: {total_price}\")"
   ]
  },
  {
   "cell_type": "code",
   "execution_count": 23,
   "id": "97464031-f170-4d79-9441-447a6bd98d12",
   "metadata": {},
   "outputs": [
    {
     "name": "stdin",
     "output_type": "stream",
     "text": [
      "Enter the quantity of t-shirts available: 5\n",
      "Enter the quantity of mugs available: 4\n",
      "Enter the quantity of hats available: 3\n",
      "Enter the quantity of books available: 2\n",
      "Enter the quantity of keychains available: 1\n"
     ]
    }
   ],
   "source": [
    "# 9.\n",
    "products = [\"t-shirt\", \"mug\", \"hat\", \"book\", \"keychain\"]\n",
    "inventory = initialize_inventory(products)"
   ]
  },
  {
   "cell_type": "code",
   "execution_count": 29,
   "id": "f281605b-c5db-4018-b817-90d1c0eab9c0",
   "metadata": {},
   "outputs": [
    {
     "name": "stdin",
     "output_type": "stream",
     "text": [
      "Enter the number of customer orders: 2\n",
      "Enter the name of a product that a customer wants to order: hat\n",
      "Enter the name of a product that a customer wants to order: keychain\n"
     ]
    }
   ],
   "source": [
    "# 10.\n",
    "customer_orders = get_customer_orders()"
   ]
  },
  {
   "cell_type": "code",
   "execution_count": 45,
   "id": "432ea441-031f-4eab-a4e3-940005b3c0dd",
   "metadata": {},
   "outputs": [
    {
     "name": "stdout",
     "output_type": "stream",
     "text": [
      "Order Statistics:\n",
      "Total Products Ordered: 2\n",
      "Percentage of Products Ordered: 40.0%\n",
      "\n",
      "Inventory:\n",
      "t-shirt: 5\n",
      "mug: 4\n",
      "hat: 2\n",
      "book: 2\n",
      "\n"
     ]
    },
    {
     "name": "stdin",
     "output_type": "stream",
     "text": [
      "Enter the price of hat 10\n",
      "Enter the price of keychain 5\n"
     ]
    },
    {
     "name": "stdout",
     "output_type": "stream",
     "text": [
      "Total Price: 15\n"
     ]
    }
   ],
   "source": [
    "# 11.\n",
    "order_status = calculate_order_statistics(customer_orders, products)\n",
    "print_order_statistics(order_status)\n",
    "print()\n",
    "\n",
    "updated_inventory = update_inventory(customer_orders, inventory)\n",
    "print_updated_inventory(updated_inventory)\n",
    "print()\n",
    "\n",
    "total_price = calculate_total_price(customer_orders)\n",
    "print_total_price(total_price)"
   ]
  }
 ],
 "metadata": {
  "kernelspec": {
   "display_name": "Python 3 (ipykernel)",
   "language": "python",
   "name": "python3"
  },
  "language_info": {
   "codemirror_mode": {
    "name": "ipython",
    "version": 3
   },
   "file_extension": ".py",
   "mimetype": "text/x-python",
   "name": "python",
   "nbconvert_exporter": "python",
   "pygments_lexer": "ipython3",
   "version": "3.12.4"
  }
 },
 "nbformat": 4,
 "nbformat_minor": 5
}
